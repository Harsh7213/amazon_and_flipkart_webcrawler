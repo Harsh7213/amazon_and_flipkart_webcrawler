{
 "cells": [
  {
   "cell_type": "code",
   "execution_count": 33,
   "id": "84bc42a4",
   "metadata": {},
   "outputs": [
    {
     "name": "stdout",
     "output_type": "stream",
     "text": [
      "Enter the product : Acer Aspire 5\n"
     ]
    }
   ],
   "source": [
    "from bs4 import BeautifulSoup\n",
    "import requests\n",
    "import pandas as pd\n",
    "import Levenshtein\n",
    "\n",
    "input_string=str(input(\"Enter the product : \"))\n",
    "final_string=input_string.replace(\" \",\"%20\")\n",
    "URL1  = \"https://www.amazon.in/s?k=\" + final_string\n",
    "URL2 = \"https://www.flipkart.com/search?q=\" + final_string\n",
    "\n",
    "# Headers for request\n",
    "HEADERS = ({'User-Agent':'Mozilla/5.0 (X11; Linux x86_64; rv:109.0) Gecko/20100101 Firefox/113.0', 'Accept-Language': 'en-US, en;q=0.5'})"
   ]
  },
  {
   "cell_type": "code",
   "execution_count": 34,
   "id": "942f42fc",
   "metadata": {},
   "outputs": [
    {
     "name": "stdout",
     "output_type": "stream",
     "text": [
      "https://www.amazon.in/s?k=Acer%20Aspire%205\n",
      "https://www.flipkart.com/search?q=Acer%20Aspire%205\n"
     ]
    }
   ],
   "source": [
    "# HTTP Request\n",
    "print(URL1)\n",
    "print(URL2)\n",
    "webpage1 = requests.get(URL1, headers=HEADERS)\n",
    "webpage2 = requests.get(URL2, headers=HEADERS)"
   ]
  },
  {
   "cell_type": "code",
   "execution_count": 35,
   "id": "d792ee49",
   "metadata": {},
   "outputs": [],
   "source": [
    "# Soup Object containiang all data\n",
    "soup1 = BeautifulSoup(webpage1.content, \"html.parser\")\n",
    "soup2 = BeautifulSoup(webpage2.content, \"html.parser\")"
   ]
  },
  {
   "cell_type": "code",
   "execution_count": 36,
   "id": "d4d6f6c4",
   "metadata": {},
   "outputs": [],
   "source": [
    "def find_best_match(name, dictionary_list):\n",
    "    best_match = None\n",
    "    best_distance = float('inf')\n",
    "    \n",
    "    for dictionary in dictionary_list:\n",
    "        dictionary_name = dictionary[\"item_name\"]\n",
    "        distance = Levenshtein.distance(name, dictionary_name)\n",
    "        if distance < best_distance:\n",
    "            best_distance = distance\n",
    "            best_match = dictionary\n",
    "\n",
    "    return best_match\n",
    "\n",
    "def remove_quotes_from_url(url):\n",
    "    if url.startswith('\"') or url.startswith(\"'\"):\n",
    "        url = url[1:]\n",
    "    if url.endswith('\"') or url.endswith(\"'\"):\n",
    "        url = url[:-1]\n",
    "    return url\n",
    "\n"
   ]
  },
  {
   "cell_type": "code",
   "execution_count": 37,
   "id": "7ae7a234",
   "metadata": {},
   "outputs": [
    {
     "name": "stdout",
     "output_type": "stream",
     "text": [
      "https://www.amazon.in/sspa/click?ie=UTF8&spc=MTozMTIwNzYzMjgwNzgyODU6MTY4NzI2MTg3NzpzcF9hdGY6MjAwNzg3NTUyNzgyOTg6OjA6Og&url=%2FAcer-12-Cores-Processor-Graphics-A515-57G%2Fdp%2FB0B5KTSVTG%2Fref%3Dsr_1_1_sspa%3Fkeywords%3DAcer%2BAspire%2B5%26qid%3D1687261877%26sr%3D8-1-spons%26sp_csd%3Dd2lkZ2V0TmFtZT1zcF9hdGY%26psc%3D1\n",
      "\n",
      "https://flipkart.com/zebronics-zeb-rise-wired-optical-mouse/p/itm9381bff88083e?pid=ACCFZRBVFBAGZJHZ&lid=LSTACCFZRBVFBAGZJHZAYIK7P&marketplace=FLIPKART&q=Acer+Aspire+5&store=search.flipkart.com&srno=s_1_12&otracker=search&fm=organic&iid=b135e467-4d70-4801-b251-578222145023.ACCFZRBVFBAGZJHZ.SEARCH&ppt=None&ppn=None&ssid=a4hnznxets0000001687261882399&qH=a0958aa675416941\n"
     ]
    }
   ],
   "source": [
    "\n",
    "#---------amazon---------\n",
    "amz_name_list=[]\n",
    "amz_product_link_list=[]\n",
    "try:\n",
    "    amz_product_name = soup1.find_all(\"span\", attrs={\"class\":\"a-size-medium a-color-base a-text-normal\"})\n",
    "    if(len(amz_product_name)<=3):\n",
    "        raise Exception('not valid')\n",
    "except Exception as e:\n",
    "    amz_product_name=soup1.find_all('span',attrs={'class':\"a-size-base-plus a-color-base a-text-normal\"})\n",
    "\n",
    "try:\n",
    "    amz_product_link = soup1.find_all('a',attrs={\"class\":\"a-link-normal s-underline-text s-underline-link-text s-link-style a-text-normal\"})\n",
    "    if len(amz_product_link)==0:\n",
    "        raise Exception ('Empty')\n",
    "except Exception as e:\n",
    "    amz_product_link=soup1.find_all('a',attrs={'class':\"a-link-normal s-underline-text s-underline-link-text s-link-style a-text-normal\"})\n",
    "\n",
    "\n",
    "for i in range (0,len(amz_product_name)):\n",
    "    amz_name_list.append(str(amz_product_name[i].text)[:50])\n",
    "    amz_product_link_list.append(\"https://www.amazon.in\"+(amz_product_link[i].get('href')))\n",
    "\n",
    "\n",
    "item_on_amz_page=[]\n",
    "for i in range(0,len(amz_name_list)):\n",
    "    item = {\"item_name\": amz_name_list[i], \"item_link\": amz_product_link_list[i]}\n",
    "    item_on_amz_page.append(item)\n",
    "best_match = find_best_match(input_string, item_on_amz_page).get('item_link')\n",
    "amazon_result_url = remove_quotes_from_url(best_match)\n",
    "\n",
    "#---------flipkart--------\n",
    "\n",
    "flip_name_list=[]\n",
    "flip_product_link_list=[]\n",
    "try:\n",
    "    flip_product_name=soup2.find_all(\"div\", attrs={\"class\":\"_4rR01T\"})\n",
    "    if len(flip_product_name)==0:\n",
    "        raise Exception ('Invalid')\n",
    "except:\n",
    "    flip_product_name=soup2.find_all(\"a\", attrs={\"class\":\"s1Q9rs\"})\n",
    "\n",
    "try:\n",
    "    flip_product_link=soup2.find_all(\"a\",attrs={\"class\":\"_1fQZEK\"})\n",
    "    if len(flip_product_link)==0:\n",
    "        raise Exception ('Invalid')\n",
    "except:\n",
    "    flip_product_link=soup2.find_all('a',attrs={\"class\":'s1Q9rs'})\n",
    "\n",
    "for i in range(0,len(flip_product_name)):\n",
    "    flip_name_list.append(str(flip_product_name[i].text)[:50])\n",
    "    flip_product_link_list.append(\"https://flipkart.com\"+(flip_product_link[i].get('href')))\n",
    "\n",
    "item_on_flip_page=[]\n",
    "for i in range(0,len(flip_name_list)):\n",
    "    item={'item_name':flip_name_list[i],'item_link':flip_product_link_list[i]}\n",
    "    item_on_flip_page.append(item)\n",
    "    \n",
    "best_match=find_best_match(input_string,item_on_flip_page).get('item_link')\n",
    "flipkart_result_url=remove_quotes_from_url(best_match)\n",
    "\n",
    "print(amazon_result_url)\n",
    "print()\n",
    "print(flipkart_result_url)\n",
    "    "
   ]
  },
  {
   "cell_type": "code",
   "execution_count": 38,
   "id": "47af27fb",
   "metadata": {},
   "outputs": [
    {
     "name": "stdout",
     "output_type": "stream",
     "text": [
      "{'item_name': 'Acer Aspire 5 Gaming Laptop Intel Core i5 12th gen', 'item_price': '₹58,990.00', 'item_rating': '4.0  4.0 out of 5 stars', 'link_to_item': 'https://www.amazon.in/sspa/click?ie=UTF8&spc=MTozMTIwNzYzMjgwNzgyODU6MTY4NzI2MTg3NzpzcF9hdGY6MjAwNzg3NTUyNzgyOTg6OjA6Og&url=%2FAcer-12-Cores-Processor-Graphics-A515-57G%2Fdp%2FB0B5KTSVTG%2Fref%3Dsr_1_1_sspa%3Fkeywords%3DAcer%2BAspire%2B5%26qid%3D1687261877%26sr%3D8-1-spons%26sp_csd%3Dd2lkZ2V0TmFtZT1zcF9hdGY%26psc%3D1'}\n",
      "{'item_name': 'ZEBRONICS ZEB-RISE Wired Optical Mouse\\xa0\\xa0(USB 2.0, ', 'item_price': '₹99', 'item_rating': '4.1', 'link_to_item': 'https://flipkart.com/zebronics-zeb-rise-wired-optical-mouse/p/itm9381bff88083e?pid=ACCFZRBVFBAGZJHZ&lid=LSTACCFZRBVFBAGZJHZAYIK7P&marketplace=FLIPKART&q=Acer+Aspire+5&store=search.flipkart.com&srno=s_1_12&otracker=search&fm=organic&iid=b135e467-4d70-4801-b251-578222145023.ACCFZRBVFBAGZJHZ.SEARCH&ppt=None&ppn=None&ssid=a4hnznxets0000001687261882399&qH=a0958aa675416941'}\n"
     ]
    }
   ],
   "source": [
    "new_webpage1=requests.get(amazon_result_url,headers=HEADERS)\n",
    "new_webpage2=requests.get(flipkart_result_url,headers=HEADERS)\n",
    "\n",
    "new_soup1=BeautifulSoup(new_webpage1.content,'html.parser')\n",
    "\n",
    "amz_dict={\"item_name\":'',\"item_price\":'',\"item_rating\":'',\"link_to_item\":''}\n",
    "\n",
    "try:\n",
    "    amz_dict[\"item_name\"]=new_soup1.find('span',attrs={\"id\":\"productTitle\"}).text.strip()[:50]\n",
    "except Exception as e:\n",
    "    amz_dict['item_name']=None\n",
    "try:\n",
    "    amz_dict[\"item_price\"]=new_soup1.find('span',attrs={\"class\":\"a-price aok-align-center reinventPricePriceToPayMargin priceToPay\",'class':'a-offscreen'}).text\n",
    "except Exception as e:\n",
    "    amz_dict['item_price']=None\n",
    "try:\n",
    "    amz_dict[\"item_rating\"]=new_soup1.find('span',attrs={'class':\"reviewCountTextLinkedHistogram noUnderline\"}).text.strip()\n",
    "except Exception as e:\n",
    "    amz_dict['item_raing']=None\n",
    "amz_dict[\"link_to_item\"]=amazon_result_url\n",
    "\n",
    "print(amz_dict)\n",
    "\n",
    "new_soup2=BeautifulSoup(new_webpage2.content,'html.parser')\n",
    "\n",
    "flip_dict={\"item_name\":'',\"item_price\":'',\"item_rating\":'',\"link_to_item\":''}\n",
    "\n",
    "try:\n",
    "    flip_dict[\"item_name\"]=new_soup2.find('span',attrs={\"class\":\"B_NuCI\"}).text.strip()[:50]\n",
    "except Exception as e:\n",
    "    flip_dict[\"item_name\"]=None\n",
    "try:\n",
    "    flip_dict[\"item_price\"]=new_soup2.find('div',attrs={\"class\":\"_30jeq3 _16Jk6d\"}).text\n",
    "except Exception as e:\n",
    "    flip_dict[\"item_price\"]=None\n",
    "try:\n",
    "    flip_dict[\"item_rating\"]=new_soup2.find('div',attrs={'class':\"_3LWZlK\"}).text.strip()\n",
    "except Exception as e:\n",
    "    flip_dict['item_rating']=None\n",
    "\n",
    "flip_dict[\"link_to_item\"]=flipkart_result_url\n",
    "\n",
    "print(flip_dict)\n",
    "\n"
   ]
  },
  {
   "cell_type": "code",
   "execution_count": null,
   "id": "76f9c4f9",
   "metadata": {},
   "outputs": [],
   "source": []
  },
  {
   "cell_type": "code",
   "execution_count": null,
   "id": "85c99e94",
   "metadata": {},
   "outputs": [],
   "source": []
  }
 ],
 "metadata": {
  "kernelspec": {
   "display_name": "Python 3 (ipykernel)",
   "language": "python",
   "name": "python3"
  },
  "language_info": {
   "codemirror_mode": {
    "name": "ipython",
    "version": 3
   },
   "file_extension": ".py",
   "mimetype": "text/x-python",
   "name": "python",
   "nbconvert_exporter": "python",
   "pygments_lexer": "ipython3",
   "version": "3.10.6"
  }
 },
 "nbformat": 4,
 "nbformat_minor": 5
}
